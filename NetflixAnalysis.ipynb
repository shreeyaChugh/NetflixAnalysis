{
  "nbformat": 4,
  "nbformat_minor": 0,
  "metadata": {
    "colab": {
      "name": "NetflixAnalysis.ipynb",
      "provenance": []
    },
    "kernelspec": {
      "name": "python3",
      "display_name": "Python 3"
    },
    "language_info": {
      "name": "python"
    }
  },
  "cells": [
    {
      "cell_type": "markdown",
      "source": [
        "This project is about analyzing the Netflix dataset from a consumer, producer, and analyst's point of view."
      ],
      "metadata": {
        "id": "NBBP0VH8SYRv"
      }
    },
    {
      "cell_type": "code",
      "execution_count": null,
      "metadata": {
        "colab": {
          "resources": {
            "http://localhost:8080/nbextensions/google.colab/files.js": {
              "data": "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",
              "ok": true,
              "headers": [
                [
                  "content-type",
                  "application/javascript"
                ]
              ],
              "status": 200,
              "status_text": ""
            }
          },
          "base_uri": "https://localhost:8080/",
          "height": 73
        },
        "id": "1X5qbdKkNzqD",
        "outputId": "011158de-0d5e-4682-a747-1e083ec87300"
      },
      "outputs": [
        {
          "output_type": "display_data",
          "data": {
            "text/plain": [
              "<IPython.core.display.HTML object>"
            ],
            "text/html": [
              "\n",
              "     <input type=\"file\" id=\"files-20c3b64e-39e6-4ab3-88fd-093d28b4bb09\" name=\"files[]\" multiple disabled\n",
              "        style=\"border:none\" />\n",
              "     <output id=\"result-20c3b64e-39e6-4ab3-88fd-093d28b4bb09\">\n",
              "      Upload widget is only available when the cell has been executed in the\n",
              "      current browser session. Please rerun this cell to enable.\n",
              "      </output>\n",
              "      <script src=\"/nbextensions/google.colab/files.js\"></script> "
            ]
          },
          "metadata": {}
        },
        {
          "output_type": "stream",
          "name": "stdout",
          "text": [
            "Saving netflixData.csv to netflixData.csv\n"
          ]
        }
      ],
      "source": [
        "import numpy as np\n",
        "import pandas as pd\n",
        "from google.colab import files\n",
        "uploaded = files.upload()\n"
      ]
    },
    {
      "cell_type": "code",
      "source": [
        "import io\n",
        "df = pd.read_csv(io.BytesIO(uploaded['netflixData.csv']))\n"
      ],
      "metadata": {
        "id": "rDc9ElqhUGYX"
      },
      "execution_count": null,
      "outputs": []
    },
    {
      "cell_type": "code",
      "source": [
        "from matplotlib import pyplot as plt\n",
        "import seaborn as sns"
      ],
      "metadata": {
        "id": "O22jMOd5X2uw"
      },
      "execution_count": null,
      "outputs": []
    },
    {
      "cell_type": "markdown",
      "source": [
        "Part 1: Understanding the Dataset"
      ],
      "metadata": {
        "id": "fjJRBLggQ-yj"
      }
    },
    {
      "cell_type": "code",
      "source": [
        "df.head()"
      ],
      "metadata": {
        "id": "7wHd57xXQsa9",
        "outputId": "4c6798de-16a2-44c7-ce23-d4e5c12b5d54",
        "colab": {
          "base_uri": "https://localhost:8080/",
          "height": 493
        }
      },
      "execution_count": null,
      "outputs": [
        {
          "output_type": "execute_result",
          "data": {
            "text/plain": [
              "                                Show Id                          Title  \\\n",
              "0  cc1b6ed9-cf9e-4057-8303-34577fb54477                       (Un)Well   \n",
              "1  e2ef4e91-fb25-42ab-b485-be8e3b23dedb                         #Alive   \n",
              "2  b01b73b7-81f6-47a7-86d8-acb63080d525  #AnneFrank - Parallel Stories   \n",
              "3  b6611af0-f53c-4a08-9ffa-9716dc57eb9c                       #blackAF   \n",
              "4  7f2d4170-bab8-4d75-adc2-197f7124c070               #cats_the_mewvie   \n",
              "\n",
              "                                         Description  \\\n",
              "0  This docuseries takes a deep dive into the luc...   \n",
              "1  As a grisly virus rampages a city, a lone man ...   \n",
              "2  Through her diary, Anne Frank's story is retol...   \n",
              "3  Kenya Barris and his family navigate relations...   \n",
              "4  This pawesome documentary explores how our fel...   \n",
              "\n",
              "                      Director  \\\n",
              "0                          NaN   \n",
              "1                       Cho Il   \n",
              "2  Sabina Fedeli, Anna Migotto   \n",
              "3                          NaN   \n",
              "4             Michael Margolis   \n",
              "\n",
              "                                           Genres  \\\n",
              "0                                      Reality TV   \n",
              "1  Horror Movies, International Movies, Thrillers   \n",
              "2             Documentaries, International Movies   \n",
              "3                                     TV Comedies   \n",
              "4             Documentaries, International Movies   \n",
              "\n",
              "                                                Cast Production Country  \\\n",
              "0                                                NaN      United States   \n",
              "1                           Yoo Ah-in, Park Shin-hye        South Korea   \n",
              "2                        Helen Mirren, Gengher Gatti              Italy   \n",
              "3  Kenya Barris, Rashida Jones, Iman Benson, Genn...      United States   \n",
              "4                                                NaN             Canada   \n",
              "\n",
              "   Release Date Rating  Duration Imdb Score Content Type         Date Added  \n",
              "0        2020.0  TV-MA  1 Season     6.6/10      TV Show                NaN  \n",
              "1        2020.0  TV-MA    99 min     6.2/10        Movie  September 8, 2020  \n",
              "2        2019.0  TV-14    95 min     6.4/10        Movie       July 1, 2020  \n",
              "3        2020.0  TV-MA  1 Season     6.6/10      TV Show                NaN  \n",
              "4        2020.0  TV-14    90 min     5.1/10        Movie   February 5, 2020  "
            ],
            "text/html": [
              "\n",
              "  <div id=\"df-63b7d96c-fa77-4273-b89a-e68cbc9e5913\">\n",
              "    <div class=\"colab-df-container\">\n",
              "      <div>\n",
              "<style scoped>\n",
              "    .dataframe tbody tr th:only-of-type {\n",
              "        vertical-align: middle;\n",
              "    }\n",
              "\n",
              "    .dataframe tbody tr th {\n",
              "        vertical-align: top;\n",
              "    }\n",
              "\n",
              "    .dataframe thead th {\n",
              "        text-align: right;\n",
              "    }\n",
              "</style>\n",
              "<table border=\"1\" class=\"dataframe\">\n",
              "  <thead>\n",
              "    <tr style=\"text-align: right;\">\n",
              "      <th></th>\n",
              "      <th>Show Id</th>\n",
              "      <th>Title</th>\n",
              "      <th>Description</th>\n",
              "      <th>Director</th>\n",
              "      <th>Genres</th>\n",
              "      <th>Cast</th>\n",
              "      <th>Production Country</th>\n",
              "      <th>Release Date</th>\n",
              "      <th>Rating</th>\n",
              "      <th>Duration</th>\n",
              "      <th>Imdb Score</th>\n",
              "      <th>Content Type</th>\n",
              "      <th>Date Added</th>\n",
              "    </tr>\n",
              "  </thead>\n",
              "  <tbody>\n",
              "    <tr>\n",
              "      <th>0</th>\n",
              "      <td>cc1b6ed9-cf9e-4057-8303-34577fb54477</td>\n",
              "      <td>(Un)Well</td>\n",
              "      <td>This docuseries takes a deep dive into the luc...</td>\n",
              "      <td>NaN</td>\n",
              "      <td>Reality TV</td>\n",
              "      <td>NaN</td>\n",
              "      <td>United States</td>\n",
              "      <td>2020.0</td>\n",
              "      <td>TV-MA</td>\n",
              "      <td>1 Season</td>\n",
              "      <td>6.6/10</td>\n",
              "      <td>TV Show</td>\n",
              "      <td>NaN</td>\n",
              "    </tr>\n",
              "    <tr>\n",
              "      <th>1</th>\n",
              "      <td>e2ef4e91-fb25-42ab-b485-be8e3b23dedb</td>\n",
              "      <td>#Alive</td>\n",
              "      <td>As a grisly virus rampages a city, a lone man ...</td>\n",
              "      <td>Cho Il</td>\n",
              "      <td>Horror Movies, International Movies, Thrillers</td>\n",
              "      <td>Yoo Ah-in, Park Shin-hye</td>\n",
              "      <td>South Korea</td>\n",
              "      <td>2020.0</td>\n",
              "      <td>TV-MA</td>\n",
              "      <td>99 min</td>\n",
              "      <td>6.2/10</td>\n",
              "      <td>Movie</td>\n",
              "      <td>September 8, 2020</td>\n",
              "    </tr>\n",
              "    <tr>\n",
              "      <th>2</th>\n",
              "      <td>b01b73b7-81f6-47a7-86d8-acb63080d525</td>\n",
              "      <td>#AnneFrank - Parallel Stories</td>\n",
              "      <td>Through her diary, Anne Frank's story is retol...</td>\n",
              "      <td>Sabina Fedeli, Anna Migotto</td>\n",
              "      <td>Documentaries, International Movies</td>\n",
              "      <td>Helen Mirren, Gengher Gatti</td>\n",
              "      <td>Italy</td>\n",
              "      <td>2019.0</td>\n",
              "      <td>TV-14</td>\n",
              "      <td>95 min</td>\n",
              "      <td>6.4/10</td>\n",
              "      <td>Movie</td>\n",
              "      <td>July 1, 2020</td>\n",
              "    </tr>\n",
              "    <tr>\n",
              "      <th>3</th>\n",
              "      <td>b6611af0-f53c-4a08-9ffa-9716dc57eb9c</td>\n",
              "      <td>#blackAF</td>\n",
              "      <td>Kenya Barris and his family navigate relations...</td>\n",
              "      <td>NaN</td>\n",
              "      <td>TV Comedies</td>\n",
              "      <td>Kenya Barris, Rashida Jones, Iman Benson, Genn...</td>\n",
              "      <td>United States</td>\n",
              "      <td>2020.0</td>\n",
              "      <td>TV-MA</td>\n",
              "      <td>1 Season</td>\n",
              "      <td>6.6/10</td>\n",
              "      <td>TV Show</td>\n",
              "      <td>NaN</td>\n",
              "    </tr>\n",
              "    <tr>\n",
              "      <th>4</th>\n",
              "      <td>7f2d4170-bab8-4d75-adc2-197f7124c070</td>\n",
              "      <td>#cats_the_mewvie</td>\n",
              "      <td>This pawesome documentary explores how our fel...</td>\n",
              "      <td>Michael Margolis</td>\n",
              "      <td>Documentaries, International Movies</td>\n",
              "      <td>NaN</td>\n",
              "      <td>Canada</td>\n",
              "      <td>2020.0</td>\n",
              "      <td>TV-14</td>\n",
              "      <td>90 min</td>\n",
              "      <td>5.1/10</td>\n",
              "      <td>Movie</td>\n",
              "      <td>February 5, 2020</td>\n",
              "    </tr>\n",
              "  </tbody>\n",
              "</table>\n",
              "</div>\n",
              "      <button class=\"colab-df-convert\" onclick=\"convertToInteractive('df-63b7d96c-fa77-4273-b89a-e68cbc9e5913')\"\n",
              "              title=\"Convert this dataframe to an interactive table.\"\n",
              "              style=\"display:none;\">\n",
              "        \n",
              "  <svg xmlns=\"http://www.w3.org/2000/svg\" height=\"24px\"viewBox=\"0 0 24 24\"\n",
              "       width=\"24px\">\n",
              "    <path d=\"M0 0h24v24H0V0z\" fill=\"none\"/>\n",
              "    <path d=\"M18.56 5.44l.94 2.06.94-2.06 2.06-.94-2.06-.94-.94-2.06-.94 2.06-2.06.94zm-11 1L8.5 8.5l.94-2.06 2.06-.94-2.06-.94L8.5 2.5l-.94 2.06-2.06.94zm10 10l.94 2.06.94-2.06 2.06-.94-2.06-.94-.94-2.06-.94 2.06-2.06.94z\"/><path d=\"M17.41 7.96l-1.37-1.37c-.4-.4-.92-.59-1.43-.59-.52 0-1.04.2-1.43.59L10.3 9.45l-7.72 7.72c-.78.78-.78 2.05 0 2.83L4 21.41c.39.39.9.59 1.41.59.51 0 1.02-.2 1.41-.59l7.78-7.78 2.81-2.81c.8-.78.8-2.07 0-2.86zM5.41 20L4 18.59l7.72-7.72 1.47 1.35L5.41 20z\"/>\n",
              "  </svg>\n",
              "      </button>\n",
              "      \n",
              "  <style>\n",
              "    .colab-df-container {\n",
              "      display:flex;\n",
              "      flex-wrap:wrap;\n",
              "      gap: 12px;\n",
              "    }\n",
              "\n",
              "    .colab-df-convert {\n",
              "      background-color: #E8F0FE;\n",
              "      border: none;\n",
              "      border-radius: 50%;\n",
              "      cursor: pointer;\n",
              "      display: none;\n",
              "      fill: #1967D2;\n",
              "      height: 32px;\n",
              "      padding: 0 0 0 0;\n",
              "      width: 32px;\n",
              "    }\n",
              "\n",
              "    .colab-df-convert:hover {\n",
              "      background-color: #E2EBFA;\n",
              "      box-shadow: 0px 1px 2px rgba(60, 64, 67, 0.3), 0px 1px 3px 1px rgba(60, 64, 67, 0.15);\n",
              "      fill: #174EA6;\n",
              "    }\n",
              "\n",
              "    [theme=dark] .colab-df-convert {\n",
              "      background-color: #3B4455;\n",
              "      fill: #D2E3FC;\n",
              "    }\n",
              "\n",
              "    [theme=dark] .colab-df-convert:hover {\n",
              "      background-color: #434B5C;\n",
              "      box-shadow: 0px 1px 3px 1px rgba(0, 0, 0, 0.15);\n",
              "      filter: drop-shadow(0px 1px 2px rgba(0, 0, 0, 0.3));\n",
              "      fill: #FFFFFF;\n",
              "    }\n",
              "  </style>\n",
              "\n",
              "      <script>\n",
              "        const buttonEl =\n",
              "          document.querySelector('#df-63b7d96c-fa77-4273-b89a-e68cbc9e5913 button.colab-df-convert');\n",
              "        buttonEl.style.display =\n",
              "          google.colab.kernel.accessAllowed ? 'block' : 'none';\n",
              "\n",
              "        async function convertToInteractive(key) {\n",
              "          const element = document.querySelector('#df-63b7d96c-fa77-4273-b89a-e68cbc9e5913');\n",
              "          const dataTable =\n",
              "            await google.colab.kernel.invokeFunction('convertToInteractive',\n",
              "                                                     [key], {});\n",
              "          if (!dataTable) return;\n",
              "\n",
              "          const docLinkHtml = 'Like what you see? Visit the ' +\n",
              "            '<a target=\"_blank\" href=https://colab.research.google.com/notebooks/data_table.ipynb>data table notebook</a>'\n",
              "            + ' to learn more about interactive tables.';\n",
              "          element.innerHTML = '';\n",
              "          dataTable['output_type'] = 'display_data';\n",
              "          await google.colab.output.renderOutput(dataTable, element);\n",
              "          const docLink = document.createElement('div');\n",
              "          docLink.innerHTML = docLinkHtml;\n",
              "          element.appendChild(docLink);\n",
              "        }\n",
              "      </script>\n",
              "    </div>\n",
              "  </div>\n",
              "  "
            ]
          },
          "metadata": {},
          "execution_count": 39
        }
      ]
    },
    {
      "cell_type": "code",
      "source": [
        "df.shape"
      ],
      "metadata": {
        "colab": {
          "base_uri": "https://localhost:8080/"
        },
        "id": "bMI_ueXVQoc4",
        "outputId": "953aa501-3e69-4cd8-9d04-260cb5710643"
      },
      "execution_count": null,
      "outputs": [
        {
          "output_type": "execute_result",
          "data": {
            "text/plain": [
              "(5967, 13)"
            ]
          },
          "metadata": {},
          "execution_count": 40
        }
      ]
    },
    {
      "cell_type": "code",
      "source": [
        "df[df['Title'].isin(['2 States'])]\n"
      ],
      "metadata": {
        "colab": {
          "base_uri": "https://localhost:8080/",
          "height": 177
        },
        "id": "93hny-S7X4Kz",
        "outputId": "c9366bea-093c-435f-af8c-01c10e585b39"
      },
      "execution_count": null,
      "outputs": [
        {
          "output_type": "execute_result",
          "data": {
            "text/plain": [
              "                                 Show Id     Title  \\\n",
              "32  79afe5bd-0dcd-4cac-9072-f77f46f355ef  2 States   \n",
              "\n",
              "                                          Description         Director  \\\n",
              "32  Graduate students Krish and Ananya hope to win...  Abhishek Varman   \n",
              "\n",
              "                                    Genres  \\\n",
              "32  Comedies, Dramas, International Movies   \n",
              "\n",
              "                                                 Cast Production Country  \\\n",
              "32  Alia Bhatt, Arjun Kapoor, Ronit Roy, Amrita Si...              India   \n",
              "\n",
              "    Release Date Rating Duration Imdb Score Content Type      Date Added  \n",
              "32        2014.0  TV-PG  143 min     7.0/10        Movie  August 4, 2018  "
            ],
            "text/html": [
              "\n",
              "  <div id=\"df-815ae792-4d5b-41c0-98fc-ac087c051094\">\n",
              "    <div class=\"colab-df-container\">\n",
              "      <div>\n",
              "<style scoped>\n",
              "    .dataframe tbody tr th:only-of-type {\n",
              "        vertical-align: middle;\n",
              "    }\n",
              "\n",
              "    .dataframe tbody tr th {\n",
              "        vertical-align: top;\n",
              "    }\n",
              "\n",
              "    .dataframe thead th {\n",
              "        text-align: right;\n",
              "    }\n",
              "</style>\n",
              "<table border=\"1\" class=\"dataframe\">\n",
              "  <thead>\n",
              "    <tr style=\"text-align: right;\">\n",
              "      <th></th>\n",
              "      <th>Show Id</th>\n",
              "      <th>Title</th>\n",
              "      <th>Description</th>\n",
              "      <th>Director</th>\n",
              "      <th>Genres</th>\n",
              "      <th>Cast</th>\n",
              "      <th>Production Country</th>\n",
              "      <th>Release Date</th>\n",
              "      <th>Rating</th>\n",
              "      <th>Duration</th>\n",
              "      <th>Imdb Score</th>\n",
              "      <th>Content Type</th>\n",
              "      <th>Date Added</th>\n",
              "    </tr>\n",
              "  </thead>\n",
              "  <tbody>\n",
              "    <tr>\n",
              "      <th>32</th>\n",
              "      <td>79afe5bd-0dcd-4cac-9072-f77f46f355ef</td>\n",
              "      <td>2 States</td>\n",
              "      <td>Graduate students Krish and Ananya hope to win...</td>\n",
              "      <td>Abhishek Varman</td>\n",
              "      <td>Comedies, Dramas, International Movies</td>\n",
              "      <td>Alia Bhatt, Arjun Kapoor, Ronit Roy, Amrita Si...</td>\n",
              "      <td>India</td>\n",
              "      <td>2014.0</td>\n",
              "      <td>TV-PG</td>\n",
              "      <td>143 min</td>\n",
              "      <td>7.0/10</td>\n",
              "      <td>Movie</td>\n",
              "      <td>August 4, 2018</td>\n",
              "    </tr>\n",
              "  </tbody>\n",
              "</table>\n",
              "</div>\n",
              "      <button class=\"colab-df-convert\" onclick=\"convertToInteractive('df-815ae792-4d5b-41c0-98fc-ac087c051094')\"\n",
              "              title=\"Convert this dataframe to an interactive table.\"\n",
              "              style=\"display:none;\">\n",
              "        \n",
              "  <svg xmlns=\"http://www.w3.org/2000/svg\" height=\"24px\"viewBox=\"0 0 24 24\"\n",
              "       width=\"24px\">\n",
              "    <path d=\"M0 0h24v24H0V0z\" fill=\"none\"/>\n",
              "    <path d=\"M18.56 5.44l.94 2.06.94-2.06 2.06-.94-2.06-.94-.94-2.06-.94 2.06-2.06.94zm-11 1L8.5 8.5l.94-2.06 2.06-.94-2.06-.94L8.5 2.5l-.94 2.06-2.06.94zm10 10l.94 2.06.94-2.06 2.06-.94-2.06-.94-.94-2.06-.94 2.06-2.06.94z\"/><path d=\"M17.41 7.96l-1.37-1.37c-.4-.4-.92-.59-1.43-.59-.52 0-1.04.2-1.43.59L10.3 9.45l-7.72 7.72c-.78.78-.78 2.05 0 2.83L4 21.41c.39.39.9.59 1.41.59.51 0 1.02-.2 1.41-.59l7.78-7.78 2.81-2.81c.8-.78.8-2.07 0-2.86zM5.41 20L4 18.59l7.72-7.72 1.47 1.35L5.41 20z\"/>\n",
              "  </svg>\n",
              "      </button>\n",
              "      \n",
              "  <style>\n",
              "    .colab-df-container {\n",
              "      display:flex;\n",
              "      flex-wrap:wrap;\n",
              "      gap: 12px;\n",
              "    }\n",
              "\n",
              "    .colab-df-convert {\n",
              "      background-color: #E8F0FE;\n",
              "      border: none;\n",
              "      border-radius: 50%;\n",
              "      cursor: pointer;\n",
              "      display: none;\n",
              "      fill: #1967D2;\n",
              "      height: 32px;\n",
              "      padding: 0 0 0 0;\n",
              "      width: 32px;\n",
              "    }\n",
              "\n",
              "    .colab-df-convert:hover {\n",
              "      background-color: #E2EBFA;\n",
              "      box-shadow: 0px 1px 2px rgba(60, 64, 67, 0.3), 0px 1px 3px 1px rgba(60, 64, 67, 0.15);\n",
              "      fill: #174EA6;\n",
              "    }\n",
              "\n",
              "    [theme=dark] .colab-df-convert {\n",
              "      background-color: #3B4455;\n",
              "      fill: #D2E3FC;\n",
              "    }\n",
              "\n",
              "    [theme=dark] .colab-df-convert:hover {\n",
              "      background-color: #434B5C;\n",
              "      box-shadow: 0px 1px 3px 1px rgba(0, 0, 0, 0.15);\n",
              "      filter: drop-shadow(0px 1px 2px rgba(0, 0, 0, 0.3));\n",
              "      fill: #FFFFFF;\n",
              "    }\n",
              "  </style>\n",
              "\n",
              "      <script>\n",
              "        const buttonEl =\n",
              "          document.querySelector('#df-815ae792-4d5b-41c0-98fc-ac087c051094 button.colab-df-convert');\n",
              "        buttonEl.style.display =\n",
              "          google.colab.kernel.accessAllowed ? 'block' : 'none';\n",
              "\n",
              "        async function convertToInteractive(key) {\n",
              "          const element = document.querySelector('#df-815ae792-4d5b-41c0-98fc-ac087c051094');\n",
              "          const dataTable =\n",
              "            await google.colab.kernel.invokeFunction('convertToInteractive',\n",
              "                                                     [key], {});\n",
              "          if (!dataTable) return;\n",
              "\n",
              "          const docLinkHtml = 'Like what you see? Visit the ' +\n",
              "            '<a target=\"_blank\" href=https://colab.research.google.com/notebooks/data_table.ipynb>data table notebook</a>'\n",
              "            + ' to learn more about interactive tables.';\n",
              "          element.innerHTML = '';\n",
              "          dataTable['output_type'] = 'display_data';\n",
              "          await google.colab.output.renderOutput(dataTable, element);\n",
              "          const docLink = document.createElement('div');\n",
              "          docLink.innerHTML = docLinkHtml;\n",
              "          element.appendChild(docLink);\n",
              "        }\n",
              "      </script>\n",
              "    </div>\n",
              "  </div>\n",
              "  "
            ]
          },
          "metadata": {},
          "execution_count": 41
        }
      ]
    },
    {
      "cell_type": "markdown",
      "source": [
        "Part 2: Methods for Consumers to Navigate Netflix"
      ],
      "metadata": {
        "id": "gYapiH93QG_p"
      }
    },
    {
      "cell_type": "code",
      "source": [
        "def find_director(name):\n",
        "  for item in df['Director']:\n",
        "    if(item == name):\n",
        "      return True \n",
        "  return False\n",
        "  \n"
      ],
      "metadata": {
        "id": "XtMrVkHLTfwT"
      },
      "execution_count": null,
      "outputs": []
    },
    {
      "cell_type": "code",
      "source": [
        "expected = True\n",
        "observed = find_director(\"Hao Wu\")\n",
        "assert observed == expected, f\"\\nYou returned:\\n    {observed!r}\\ninstead of:\\n    {expected!r}\"\n",
        "\n",
        "expected = True\n",
        "observed = find_director(\"Karan Johar\")\n",
        "assert observed == expected, f\"\\nYou returned:\\n    {observed!r}\\ninstead of:\\n    {expected!r}\"\n",
        "\n",
        "# should return false because I am not a director\n",
        "expected = False\n",
        "observed = find_director(\"Shreeya Chugh\")\n",
        "assert observed == expected, f\"\\nYou returned:\\n    {observed!r}\\ninstead of:\\n    {expected!r}\""
      ],
      "metadata": {
        "id": "USbd--yHUxOf"
      },
      "execution_count": null,
      "outputs": []
    },
    {
      "cell_type": "code",
      "source": [
        "def find_content(name):\n",
        "  for item in df['Title']:\n",
        "    if(item == name):\n",
        "      return True \n",
        "  return False"
      ],
      "metadata": {
        "id": "oVvSSyc5FGRq"
      },
      "execution_count": null,
      "outputs": []
    },
    {
      "cell_type": "code",
      "source": [
        "def highest_producing_country():\n",
        "  return df['Production Country'].value_counts().head(1)\n",
        "\n"
      ],
      "metadata": {
        "id": "uiwsmbSfJjqB"
      },
      "execution_count": null,
      "outputs": []
    },
    {
      "cell_type": "code",
      "source": [
        "df.shape"
      ],
      "metadata": {
        "colab": {
          "base_uri": "https://localhost:8080/"
        },
        "id": "v3IKX734NiUb",
        "outputId": "2f4d9a23-6efb-44cd-89c4-9e5d8becbf4e"
      },
      "execution_count": null,
      "outputs": [
        {
          "output_type": "execute_result",
          "data": {
            "text/plain": [
              "(5967, 13)"
            ]
          },
          "metadata": {},
          "execution_count": 23
        }
      ]
    },
    {
      "cell_type": "code",
      "source": [
        "def topK_highest_producing_country(k):\n",
        "  if k<=0:\n",
        "    print(\"cannot be a negative value\")\n",
        "  elif k>= 5967:\n",
        "    print(\"k cannot be more than number of rows\")\n",
        "  else:\n",
        "    return df['Production Country'].value_counts().head(k)"
      ],
      "metadata": {
        "id": "CsRspWPvLjpD"
      },
      "execution_count": null,
      "outputs": []
    },
    {
      "cell_type": "code",
      "source": [
        "def return_rating_of_content(content):\n",
        "  return df['Imdb Score'][df['Title'][df['Title']== content].index]"
      ],
      "metadata": {
        "id": "v1EtnKRrOe5m"
      },
      "execution_count": null,
      "outputs": []
    },
    {
      "cell_type": "code",
      "source": [
        "df['Imdb Score'][df['Title'][df['Title']== \"The Blazing Sun\"].index]"
      ],
      "metadata": {
        "colab": {
          "base_uri": "https://localhost:8080/"
        },
        "id": "1X3QIZWKPy-Z",
        "outputId": "af5247ae-202c-4677-ad4d-030e01f46f24"
      },
      "execution_count": null,
      "outputs": [
        {
          "output_type": "execute_result",
          "data": {
            "text/plain": [
              "4666    7.3/10\n",
              "Name: Imdb Score, dtype: object"
            ]
          },
          "metadata": {},
          "execution_count": 33
        }
      ]
    },
    {
      "cell_type": "markdown",
      "source": [
        "Part 3: Understanding Audience and Production Distribution"
      ],
      "metadata": {
        "id": "1CdgkxGkQT6I"
      }
    },
    {
      "cell_type": "code",
      "source": [
        "df.groupby('Content Type')\n",
        "sns.countplot(df['Content Type'])"
      ],
      "metadata": {
        "colab": {
          "base_uri": "https://localhost:8080/",
          "height": 352
        },
        "id": "-l5Os7tqQWAj",
        "outputId": "44326490-17b2-4485-8702-f077dd64dfee"
      },
      "execution_count": null,
      "outputs": [
        {
          "output_type": "stream",
          "name": "stderr",
          "text": [
            "/usr/local/lib/python3.7/dist-packages/seaborn/_decorators.py:43: FutureWarning: Pass the following variable as a keyword arg: x. From version 0.12, the only valid positional argument will be `data`, and passing other arguments without an explicit keyword will result in an error or misinterpretation.\n",
            "  FutureWarning\n"
          ]
        },
        {
          "output_type": "execute_result",
          "data": {
            "text/plain": [
              "<matplotlib.axes._subplots.AxesSubplot at 0x7f43ee3f4390>"
            ]
          },
          "metadata": {},
          "execution_count": 34
        },
        {
          "output_type": "display_data",
          "data": {
            "text/plain": [
              "<Figure size 432x288 with 1 Axes>"
            ],
            "image/png": "[encoded data removed]"
          },
          "metadata": {
            "needs_background": "light"
          }
        }
      ]
    },
    {
      "cell_type": "code",
      "source": [
        "\n",
        "df.sort_values(by ='Release Date')\n",
        "    "
      ],
      "metadata": {
        "colab": {
          "base_uri": "https://localhost:8080/",
          "height": 988
        },
        "id": "Ou4D87R0ZlGu",
        "outputId": "23635163-300c-4749-9c5e-06e880368c24"
      },
      "execution_count": null,
      "outputs": [
        {
          "output_type": "execute_result",
          "data": {
            "text/plain": [
              "                                   Show Id  \\\n",
              "3706  8a6d8125-7c0f-4ec0-85dd-e1c4fdaaa380   \n",
              "1649  95315fd3-1598-4773-95eb-2fc85d733b91   \n",
              "4666  407c166b-803b-4476-a387-18827af178a9   \n",
              "5810  04e23065-2c9d-44af-ab6a-6c330d2846b8   \n",
              "1198  bd284cfe-8073-4fb0-9e65-2b5f35ff5a4d   \n",
              "...                                    ...   \n",
              "1174  88bf755b-6a87-41f4-b353-5f9066108c70   \n",
              "2838  2cb1e0a3-c2b1-41ac-b664-f742adfe3137   \n",
              "2790  8d2c9141-8232-4d3d-b68e-f65a6aff2b54   \n",
              "2791  17fd533b-799e-4d68-8af5-03ba8c14da0a   \n",
              "2792  0418aab9-53ba-46af-8a5e-fff8fdd52684   \n",
              "\n",
              "                                     Title  \\\n",
              "3706     Pioneers: First Women Filmmakers*   \n",
              "1649   Five Came Back: The Reference Films   \n",
              "4666                       The Blazing Sun   \n",
              "5810                       White Christmas   \n",
              "1198                           Dark Waters   \n",
              "...                                    ...   \n",
              "1174                Dance of the Forty One   \n",
              "2838                  Love, Death & Robots   \n",
              "2790                       Louis C.K. 2017   \n",
              "2791                 Louis C.K.: Hilarious   \n",
              "2792  Louis C.K.: Live at the Comedy Store   \n",
              "\n",
              "                                            Description         Director  \\\n",
              "3706  This collection restores films from women who ...              NaN   \n",
              "1649  This collection includes 12 World War II-era p...              NaN   \n",
              "4666  Competition between sugar cane producers turns...  Youssef Chahine   \n",
              "5810  Two war buddies fall for two sisters and follo...   Michael Curtiz   \n",
              "1198  A fisherman returns home after a three-year ab...  Youssef Chahine   \n",
              "...                                                 ...              ...   \n",
              "1174  A gay congressman marries the Mexican presiden...     David Pablos   \n",
              "2838  Terrifying creatures, wicked surprises and dar...              NaN   \n",
              "2790  Louis C.K. muses on religion, eternal love, gi...       Louis C.K.   \n",
              "2791  Emmy-winning comedy writer Louis C.K. brings h...       Louis C.K.   \n",
              "2792  The comic puts his trademark hilarious/thought...       Louis C.K.   \n",
              "\n",
              "                                                 Genres  \\\n",
              "3706                                           TV Shows   \n",
              "1649                                           TV Shows   \n",
              "4666       Classic Movies, Dramas, International Movies   \n",
              "5810  Children & Family Movies, Classic Movies, Come...   \n",
              "1198       Classic Movies, Dramas, International Movies   \n",
              "...                                                 ...   \n",
              "1174   Dramas, Independent Movies, International Movies   \n",
              "2838  TV Action & Adventure, TV Horror, TV Sci-Fi & ...   \n",
              "2790                                             Movies   \n",
              "2791                                             Movies   \n",
              "2792                                             Movies   \n",
              "\n",
              "                                                   Cast Production Country  \\\n",
              "3706                                                NaN                NaN   \n",
              "1649                                                NaN      United States   \n",
              "4666  Omar Sharif, Faten Hamama, Zaki Rostom, Farid ...              Egypt   \n",
              "5810  Bing Crosby, Danny Kaye, Rosemary Clooney, Ver...      United States   \n",
              "1198  Faten Hamama, Omar Sharif, Ahmed Ramzy, Hussei...              Egypt   \n",
              "...                                                 ...                ...   \n",
              "1174  Alfonso Herrera, Emiliano Zurita, Mabel Cadena...     Mexico, Brazil   \n",
              "2838  Topher Grace, Mary Elizabeth Winstead, Gary Co...      United States   \n",
              "2790                                         Louis C.K.      United States   \n",
              "2791                                         Louis C.K.      United States   \n",
              "2792                                         Louis C.K.      United States   \n",
              "\n",
              "      Release Date Rating   Duration Imdb Score Content Type  \\\n",
              "3706        1925.0  TV-14   1 Season        NaN      TV Show   \n",
              "1649        1945.0  TV-MA   1 Season     8.3/10      TV Show   \n",
              "4666        1954.0  TV-14    116 min     7.3/10        Movie   \n",
              "5810        1954.0   TV-G    120 min     7.5/10        Movie   \n",
              "1198        1956.0  TV-14    104 min     6.7/10        Movie   \n",
              "...            ...    ...        ...        ...          ...   \n",
              "1174        2021.0  TV-MA     99 min     6.7/10        Movie   \n",
              "2838        2021.0  TV-MA  2 Seasons     8.6/10      TV Show   \n",
              "2790           NaN    NaN        NaN        NaN      TV Show   \n",
              "2791           NaN    NaN        NaN        NaN      TV Show   \n",
              "2792           NaN    NaN        NaN        NaN      TV Show   \n",
              "\n",
              "             Date Added  \n",
              "3706                NaN  \n",
              "1649                NaN  \n",
              "4666      June 18, 2020  \n",
              "5810  November 15, 2020  \n",
              "1198      June 18, 2020  \n",
              "...                 ...  \n",
              "1174       May 12, 2021  \n",
              "2838       May 14, 2021  \n",
              "2790                NaN  \n",
              "2791                NaN  \n",
              "2792                NaN  \n",
              "\n",
              "[5967 rows x 13 columns]"
            ],
            "text/html": [
              "\n",
              "  <div id=\"df-314bcbf5-d869-4985-92f3-0023a25a3f95\">\n",
              "    <div class=\"colab-df-container\">\n",
              "      <div>\n",
              "<style scoped>\n",
              "    .dataframe tbody tr th:only-of-type {\n",
              "        vertical-align: middle;\n",
              "    }\n",
              "\n",
              "    .dataframe tbody tr th {\n",
              "        vertical-align: top;\n",
              "    }\n",
              "\n",
              "    .dataframe thead th {\n",
              "        text-align: right;\n",
              "    }\n",
              "</style>\n",
              "<table border=\"1\" class=\"dataframe\">\n",
              "  <thead>\n",
              "    <tr style=\"text-align: right;\">\n",
              "      <th></th>\n",
              "      <th>Show Id</th>\n",
              "      <th>Title</th>\n",
              "      <th>Description</th>\n",
              "      <th>Director</th>\n",
              "      <th>Genres</th>\n",
              "      <th>Cast</th>\n",
              "      <th>Production Country</th>\n",
              "      <th>Release Date</th>\n",
              "      <th>Rating</th>\n",
              "      <th>Duration</th>\n",
              "      <th>Imdb Score</th>\n",
              "      <th>Content Type</th>\n",
              "      <th>Date Added</th>\n",
              "    </tr>\n",
              "  </thead>\n",
              "  <tbody>\n",
              "    <tr>\n",
              "      <th>3706</th>\n",
              "      <td>8a6d8125-7c0f-4ec0-85dd-e1c4fdaaa380</td>\n",
              "      <td>Pioneers: First Women Filmmakers*</td>\n",
              "      <td>This collection restores films from women who ...</td>\n",
              "      <td>NaN</td>\n",
              "      <td>TV Shows</td>\n",
              "      <td>NaN</td>\n",
              "      <td>NaN</td>\n",
              "      <td>1925.0</td>\n",
              "      <td>TV-14</td>\n",
              "      <td>1 Season</td>\n",
              "      <td>NaN</td>\n",
              "      <td>TV Show</td>\n",
              "      <td>NaN</td>\n",
              "    </tr>\n",
              "    <tr>\n",
              "      <th>1649</th>\n",
              "      <td>95315fd3-1598-4773-95eb-2fc85d733b91</td>\n",
              "      <td>Five Came Back: The Reference Films</td>\n",
              "      <td>This collection includes 12 World War II-era p...</td>\n",
              "      <td>NaN</td>\n",
              "      <td>TV Shows</td>\n",
              "      <td>NaN</td>\n",
              "      <td>United States</td>\n",
              "      <td>1945.0</td>\n",
              "      <td>TV-MA</td>\n",
              "      <td>1 Season</td>\n",
              "      <td>8.3/10</td>\n",
              "      <td>TV Show</td>\n",
              "      <td>NaN</td>\n",
              "    </tr>\n",
              "    <tr>\n",
              "      <th>4666</th>\n",
              "      <td>407c166b-803b-4476-a387-18827af178a9</td>\n",
              "      <td>The Blazing Sun</td>\n",
              "      <td>Competition between sugar cane producers turns...</td>\n",
              "      <td>Youssef Chahine</td>\n",
              "      <td>Classic Movies, Dramas, International Movies</td>\n",
              "      <td>Omar Sharif, Faten Hamama, Zaki Rostom, Farid ...</td>\n",
              "      <td>Egypt</td>\n",
              "      <td>1954.0</td>\n",
              "      <td>TV-14</td>\n",
              "      <td>116 min</td>\n",
              "      <td>7.3/10</td>\n",
              "      <td>Movie</td>\n",
              "      <td>June 18, 2020</td>\n",
              "    </tr>\n",
              "    <tr>\n",
              "      <th>5810</th>\n",
              "      <td>04e23065-2c9d-44af-ab6a-6c330d2846b8</td>\n",
              "      <td>White Christmas</td>\n",
              "      <td>Two war buddies fall for two sisters and follo...</td>\n",
              "      <td>Michael Curtiz</td>\n",
              "      <td>Children &amp; Family Movies, Classic Movies, Come...</td>\n",
              "      <td>Bing Crosby, Danny Kaye, Rosemary Clooney, Ver...</td>\n",
              "      <td>United States</td>\n",
              "      <td>1954.0</td>\n",
              "      <td>TV-G</td>\n",
              "      <td>120 min</td>\n",
              "      <td>7.5/10</td>\n",
              "      <td>Movie</td>\n",
              "      <td>November 15, 2020</td>\n",
              "    </tr>\n",
              "    <tr>\n",
              "      <th>1198</th>\n",
              "      <td>bd284cfe-8073-4fb0-9e65-2b5f35ff5a4d</td>\n",
              "      <td>Dark Waters</td>\n",
              "      <td>A fisherman returns home after a three-year ab...</td>\n",
              "      <td>Youssef Chahine</td>\n",
              "      <td>Classic Movies, Dramas, International Movies</td>\n",
              "      <td>Faten Hamama, Omar Sharif, Ahmed Ramzy, Hussei...</td>\n",
              "      <td>Egypt</td>\n",
              "      <td>1956.0</td>\n",
              "      <td>TV-14</td>\n",
              "      <td>104 min</td>\n",
              "      <td>6.7/10</td>\n",
              "      <td>Movie</td>\n",
              "      <td>June 18, 2020</td>\n",
              "    </tr>\n",
              "    <tr>\n",
              "      <th>...</th>\n",
              "      <td>...</td>\n",
              "      <td>...</td>\n",
              "      <td>...</td>\n",
              "      <td>...</td>\n",
              "      <td>...</td>\n",
              "      <td>...</td>\n",
              "      <td>...</td>\n",
              "      <td>...</td>\n",
              "      <td>...</td>\n",
              "      <td>...</td>\n",
              "      <td>...</td>\n",
              "      <td>...</td>\n",
              "      <td>...</td>\n",
              "    </tr>\n",
              "    <tr>\n",
              "      <th>1174</th>\n",
              "      <td>88bf755b-6a87-41f4-b353-5f9066108c70</td>\n",
              "      <td>Dance of the Forty One</td>\n",
              "      <td>A gay congressman marries the Mexican presiden...</td>\n",
              "      <td>David Pablos</td>\n",
              "      <td>Dramas, Independent Movies, International Movies</td>\n",
              "      <td>Alfonso Herrera, Emiliano Zurita, Mabel Cadena...</td>\n",
              "      <td>Mexico, Brazil</td>\n",
              "      <td>2021.0</td>\n",
              "      <td>TV-MA</td>\n",
              "      <td>99 min</td>\n",
              "      <td>6.7/10</td>\n",
              "      <td>Movie</td>\n",
              "      <td>May 12, 2021</td>\n",
              "    </tr>\n",
              "    <tr>\n",
              "      <th>2838</th>\n",
              "      <td>2cb1e0a3-c2b1-41ac-b664-f742adfe3137</td>\n",
              "      <td>Love, Death &amp; Robots</td>\n",
              "      <td>Terrifying creatures, wicked surprises and dar...</td>\n",
              "      <td>NaN</td>\n",
              "      <td>TV Action &amp; Adventure, TV Horror, TV Sci-Fi &amp; ...</td>\n",
              "      <td>Topher Grace, Mary Elizabeth Winstead, Gary Co...</td>\n",
              "      <td>United States</td>\n",
              "      <td>2021.0</td>\n",
              "      <td>TV-MA</td>\n",
              "      <td>2 Seasons</td>\n",
              "      <td>8.6/10</td>\n",
              "      <td>TV Show</td>\n",
              "      <td>May 14, 2021</td>\n",
              "    </tr>\n",
              "    <tr>\n",
              "      <th>2790</th>\n",
              "      <td>8d2c9141-8232-4d3d-b68e-f65a6aff2b54</td>\n",
              "      <td>Louis C.K. 2017</td>\n",
              "      <td>Louis C.K. muses on religion, eternal love, gi...</td>\n",
              "      <td>Louis C.K.</td>\n",
              "      <td>Movies</td>\n",
              "      <td>Louis C.K.</td>\n",
              "      <td>United States</td>\n",
              "      <td>NaN</td>\n",
              "      <td>NaN</td>\n",
              "      <td>NaN</td>\n",
              "      <td>NaN</td>\n",
              "      <td>TV Show</td>\n",
              "      <td>NaN</td>\n",
              "    </tr>\n",
              "    <tr>\n",
              "      <th>2791</th>\n",
              "      <td>17fd533b-799e-4d68-8af5-03ba8c14da0a</td>\n",
              "      <td>Louis C.K.: Hilarious</td>\n",
              "      <td>Emmy-winning comedy writer Louis C.K. brings h...</td>\n",
              "      <td>Louis C.K.</td>\n",
              "      <td>Movies</td>\n",
              "      <td>Louis C.K.</td>\n",
              "      <td>United States</td>\n",
              "      <td>NaN</td>\n",
              "      <td>NaN</td>\n",
              "      <td>NaN</td>\n",
              "      <td>NaN</td>\n",
              "      <td>TV Show</td>\n",
              "      <td>NaN</td>\n",
              "    </tr>\n",
              "    <tr>\n",
              "      <th>2792</th>\n",
              "      <td>0418aab9-53ba-46af-8a5e-fff8fdd52684</td>\n",
              "      <td>Louis C.K.: Live at the Comedy Store</td>\n",
              "      <td>The comic puts his trademark hilarious/thought...</td>\n",
              "      <td>Louis C.K.</td>\n",
              "      <td>Movies</td>\n",
              "      <td>Louis C.K.</td>\n",
              "      <td>United States</td>\n",
              "      <td>NaN</td>\n",
              "      <td>NaN</td>\n",
              "      <td>NaN</td>\n",
              "      <td>NaN</td>\n",
              "      <td>TV Show</td>\n",
              "      <td>NaN</td>\n",
              "    </tr>\n",
              "  </tbody>\n",
              "</table>\n",
              "<p>5967 rows × 13 columns</p>\n",
              "</div>\n",
              "      <button class=\"colab-df-convert\" onclick=\"convertToInteractive('df-314bcbf5-d869-4985-92f3-0023a25a3f95')\"\n",
              "              title=\"Convert this dataframe to an interactive table.\"\n",
              "              style=\"display:none;\">\n",
              "        \n",
              "  <svg xmlns=\"http://www.w3.org/2000/svg\" height=\"24px\"viewBox=\"0 0 24 24\"\n",
              "       width=\"24px\">\n",
              "    <path d=\"M0 0h24v24H0V0z\" fill=\"none\"/>\n",
              "    <path d=\"M18.56 5.44l.94 2.06.94-2.06 2.06-.94-2.06-.94-.94-2.06-.94 2.06-2.06.94zm-11 1L8.5 8.5l.94-2.06 2.06-.94-2.06-.94L8.5 2.5l-.94 2.06-2.06.94zm10 10l.94 2.06.94-2.06 2.06-.94-2.06-.94-.94-2.06-.94 2.06-2.06.94z\"/><path d=\"M17.41 7.96l-1.37-1.37c-.4-.4-.92-.59-1.43-.59-.52 0-1.04.2-1.43.59L10.3 9.45l-7.72 7.72c-.78.78-.78 2.05 0 2.83L4 21.41c.39.39.9.59 1.41.59.51 0 1.02-.2 1.41-.59l7.78-7.78 2.81-2.81c.8-.78.8-2.07 0-2.86zM5.41 20L4 18.59l7.72-7.72 1.47 1.35L5.41 20z\"/>\n",
              "  </svg>\n",
              "      </button>\n",
              "      \n",
              "  <style>\n",
              "    .colab-df-container {\n",
              "      display:flex;\n",
              "      flex-wrap:wrap;\n",
              "      gap: 12px;\n",
              "    }\n",
              "\n",
              "    .colab-df-convert {\n",
              "      background-color: #E8F0FE;\n",
              "      border: none;\n",
              "      border-radius: 50%;\n",
              "      cursor: pointer;\n",
              "      display: none;\n",
              "      fill: #1967D2;\n",
              "      height: 32px;\n",
              "      padding: 0 0 0 0;\n",
              "      width: 32px;\n",
              "    }\n",
              "\n",
              "    .colab-df-convert:hover {\n",
              "      background-color: #E2EBFA;\n",
              "      box-shadow: 0px 1px 2px rgba(60, 64, 67, 0.3), 0px 1px 3px 1px rgba(60, 64, 67, 0.15);\n",
              "      fill: #174EA6;\n",
              "    }\n",
              "\n",
              "    [theme=dark] .colab-df-convert {\n",
              "      background-color: #3B4455;\n",
              "      fill: #D2E3FC;\n",
              "    }\n",
              "\n",
              "    [theme=dark] .colab-df-convert:hover {\n",
              "      background-color: #434B5C;\n",
              "      box-shadow: 0px 1px 3px 1px rgba(0, 0, 0, 0.15);\n",
              "      filter: drop-shadow(0px 1px 2px rgba(0, 0, 0, 0.3));\n",
              "      fill: #FFFFFF;\n",
              "    }\n",
              "  </style>\n",
              "\n",
              "      <script>\n",
              "        const buttonEl =\n",
              "          document.querySelector('#df-314bcbf5-d869-4985-92f3-0023a25a3f95 button.colab-df-convert');\n",
              "        buttonEl.style.display =\n",
              "          google.colab.kernel.accessAllowed ? 'block' : 'none';\n",
              "\n",
              "        async function convertToInteractive(key) {\n",
              "          const element = document.querySelector('#df-314bcbf5-d869-4985-92f3-0023a25a3f95');\n",
              "          const dataTable =\n",
              "            await google.colab.kernel.invokeFunction('convertToInteractive',\n",
              "                                                     [key], {});\n",
              "          if (!dataTable) return;\n",
              "\n",
              "          const docLinkHtml = 'Like what you see? Visit the ' +\n",
              "            '<a target=\"_blank\" href=https://colab.research.google.com/notebooks/data_table.ipynb>data table notebook</a>'\n",
              "            + ' to learn more about interactive tables.';\n",
              "          element.innerHTML = '';\n",
              "          dataTable['output_type'] = 'display_data';\n",
              "          await google.colab.output.renderOutput(dataTable, element);\n",
              "          const docLink = document.createElement('div');\n",
              "          docLink.innerHTML = docLinkHtml;\n",
              "          element.appendChild(docLink);\n",
              "        }\n",
              "      </script>\n",
              "    </div>\n",
              "  </div>\n",
              "  "
            ]
          },
          "metadata": {},
          "execution_count": 71
        }
      ]
    },
    {
      "cell_type": "code",
      "source": [
        "year = df['Release Date'].value_counts().head(10)\n",
        "plt.figure(figsize = (10,8))\n",
        "plt.title('Number of productions by release year(Top 10)')\n",
        "plt.xlabel('years')\n",
        "plt.ylabel('number of movies or shows produced')\n",
        "sns.barplot(x = year.index, y =  year.values )"
      ],
      "metadata": {
        "colab": {
          "base_uri": "https://localhost:8080/",
          "height": 530
        },
        "id": "BYhwIgzKdaCF",
        "outputId": "7e62f58c-9a5c-4fc5-82c5-69f6476d5fe6"
      },
      "execution_count": null,
      "outputs": [
        {
          "output_type": "execute_result",
          "data": {
            "text/plain": [
              "<matplotlib.axes._subplots.AxesSubplot at 0x7f06916dc5d0>"
            ]
          },
          "metadata": {},
          "execution_count": 80
        },
        {
          "output_type": "display_data",
          "data": {
            "text/plain": [
              "<Figure size 720x576 with 1 Axes>"
            ],
            "image/png": "[encoded data removed]"
          },
          "metadata": {
            "needs_background": "light"
          }
        }
      ]
    },
    {
      "cell_type": "code",
      "source": [
        "countries = df['Production Country'].value_counts().head(10)\n",
        "plt.figure(figsize = (10,8))\n",
        "plt.title('Number of productions by Country (Top 10)')\n",
        "plt.xlabel('countries')\n",
        "plt.ylabel('number of movies or shows produced')\n",
        "sns.barplot(x = countries.index, y =  countries.values )"
      ],
      "metadata": {
        "colab": {
          "base_uri": "https://localhost:8080/",
          "height": 530
        },
        "id": "Opj_z-2agrvg",
        "outputId": "2cd0463a-af20-4e7a-e158-cb06a9a6c75e"
      },
      "execution_count": null,
      "outputs": [
        {
          "output_type": "execute_result",
          "data": {
            "text/plain": [
              "<matplotlib.axes._subplots.AxesSubplot at 0x7f0691671b90>"
            ]
          },
          "metadata": {},
          "execution_count": 81
        },
        {
          "output_type": "display_data",
          "data": {
            "text/plain": [
              "<Figure size 720x576 with 1 Axes>"
            ],
            "image/png": "[encoded data removed]"
          },
          "metadata": {
            "needs_background": "light"
          }
        }
      ]
    }
  ]
}